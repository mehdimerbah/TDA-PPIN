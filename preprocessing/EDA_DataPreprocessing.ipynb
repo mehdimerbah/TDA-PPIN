{
  "cells": [
    {
      "cell_type": "markdown",
      "metadata": {
        "id": "dFc6-XczzsKR"
      },
      "source": [
        "# Package Installation and Loading\n"
      ]
    },
    {
      "cell_type": "markdown",
      "metadata": {
        "id": "63HAhDtb3e4J"
      },
      "source": [
        "Main packages to analyse the persistent homology of the network dataset are: ripser, persim and NetworkX.    \n",
        "**ripser**: A lean python package for analysing persistent homology. (Builds on c++ Ripser library).   \n",
        "**persim**: A python package for analyzing persistence diagrams generated from ripser.   \n",
        "**NetworkX**: NetworkX is a Python package for the creation, manipulation, and study of the structure, dynamics, and functions of complex networks.\n"
      ]
    },
    {
      "cell_type": "code",
      "execution_count": null,
      "metadata": {
        "id": "Tz9Rz_JYr7kq"
      },
      "outputs": [],
      "source": [
        "! pip3 install ripser"
      ]
    },
    {
      "cell_type": "code",
      "execution_count": null,
      "metadata": {
        "id": "eU1OW2wruZ3o",
        "outputId": "9a86599c-0ae0-43d9-acc0-5c617d6b73d8"
      },
      "outputs": [],
      "source": [
        "! pip3 install giotto-tda"
      ]
    },
    {
      "cell_type": "code",
      "execution_count": 5,
      "metadata": {
        "id": "3aHoo2v5xPGn"
      },
      "outputs": [],
      "source": [
        "import pandas as pd\n",
        "import numpy as np\n",
        "import networkx as nwx\n",
        "from ripser import ripser\n",
        "from persim import plot_diagrams\n",
        "from scipy.spatial.distance import pdist, squareform\n",
        "from scipy.sparse import coo_matrix\n",
        "from scipy import stats\n",
        "from igraph import Graph\n",
        "from IPython.display import SVG, display\n",
        "import matplotlib.pyplot as plt\n",
        "from pyvis.network import Network"
      ]
    },
    {
      "cell_type": "markdown",
      "metadata": {
        "id": "7a2VKBBz4e_B"
      },
      "source": [
        "We are fetching the raw data directly from the GCN study repository (temporarily). We should update these datasets from the original sources as new data became available for both the PPI network and the CORUM Human complexes.\n"
      ]
    },
    {
      "cell_type": "code",
      "execution_count": null,
      "metadata": {
        "colab": {
          "base_uri": "https://localhost:8080/"
        },
        "id": "i9kyazkN0yhT",
        "outputId": "d66d6098-7c4f-45f8-8292-d905441ab16b"
      },
      "outputs": [
        {
          "name": "stdout",
          "output_type": "stream",
          "text": [
            "/bin/bash: wget: command not found\n"
          ]
        }
      ],
      "source": [
        "! wget https://raw.githubusercontent.com/hars-singh/GCN_complex_detection/main/Datasets/Human/CORUM-Human-Complexes_r.txt"
      ]
    },
    {
      "cell_type": "code",
      "execution_count": null,
      "metadata": {
        "colab": {
          "base_uri": "https://localhost:8080/"
        },
        "id": "9kPCxITZ05PK",
        "outputId": "97f82278-1766-42b8-b8eb-961ac160cfff"
      },
      "outputs": [
        {
          "name": "stdout",
          "output_type": "stream",
          "text": [
            "/bin/bash: wget: command not found\n"
          ]
        }
      ],
      "source": [
        "! wget https://raw.githubusercontent.com/hars-singh/GCN_complex_detection/main/Datasets/Human/GOSemSim_Wang_combined_BIOGRID-ORGANISM-Homo_sapiens.txt -O Human_PPI_Network.txt"
      ]
    },
    {
      "cell_type": "markdown",
      "metadata": {
        "id": "G4Ua8i33QsRU"
      },
      "source": [
        "# Exploring PPI Network Data"
      ]
    },
    {
      "cell_type": "code",
      "execution_count": 6,
      "metadata": {
        "id": "lURReTqwxX8t"
      },
      "outputs": [
        {
          "data": {
            "text/html": [
              "<div>\n",
              "<style scoped>\n",
              "    .dataframe tbody tr th:only-of-type {\n",
              "        vertical-align: middle;\n",
              "    }\n",
              "\n",
              "    .dataframe tbody tr th {\n",
              "        vertical-align: top;\n",
              "    }\n",
              "\n",
              "    .dataframe thead th {\n",
              "        text-align: right;\n",
              "    }\n",
              "</style>\n",
              "<table border=\"1\" class=\"dataframe\">\n",
              "  <thead>\n",
              "    <tr style=\"text-align: right;\">\n",
              "      <th></th>\n",
              "      <th>ProteinA</th>\n",
              "      <th>ProteinB</th>\n",
              "      <th>SemSim</th>\n",
              "    </tr>\n",
              "  </thead>\n",
              "  <tbody>\n",
              "    <tr>\n",
              "      <th>0</th>\n",
              "      <td>FLNC</td>\n",
              "      <td>MAP2K4</td>\n",
              "      <td>0.672667</td>\n",
              "    </tr>\n",
              "    <tr>\n",
              "      <th>1</th>\n",
              "      <td>ACTN2</td>\n",
              "      <td>MYPN</td>\n",
              "      <td>0.738667</td>\n",
              "    </tr>\n",
              "    <tr>\n",
              "      <th>2</th>\n",
              "      <td>ACVR1</td>\n",
              "      <td>FNTA</td>\n",
              "      <td>0.370000</td>\n",
              "    </tr>\n",
              "    <tr>\n",
              "      <th>3</th>\n",
              "      <td>PML</td>\n",
              "      <td>GATA2</td>\n",
              "      <td>0.632667</td>\n",
              "    </tr>\n",
              "    <tr>\n",
              "      <th>4</th>\n",
              "      <td>STAT3</td>\n",
              "      <td>RPA2</td>\n",
              "      <td>0.576000</td>\n",
              "    </tr>\n",
              "  </tbody>\n",
              "</table>\n",
              "</div>"
            ],
            "text/plain": [
              "  ProteinA ProteinB    SemSim\n",
              "0     FLNC   MAP2K4  0.672667\n",
              "1    ACTN2     MYPN  0.738667\n",
              "2    ACVR1     FNTA  0.370000\n",
              "3      PML    GATA2  0.632667\n",
              "4    STAT3     RPA2  0.576000"
            ]
          },
          "execution_count": 6,
          "metadata": {},
          "output_type": "execute_result"
        }
      ],
      "source": [
        "## Here we load the PPI network data. The dataset is constructed by combinging BioGrid data for potein interaction pairs,\n",
        "## with their GO Semantic Similarity score calulated using Wang method. (Wang. 2007)\n",
        "ppi_df = pd.read_table(\"../data/Human_PPI_Network.txt\", header=None)\n",
        "ppi_df.columns = [\"ProteinA\", \"ProteinB\", \"SemSim\"]\n",
        "\n",
        "## The GO Semantic Similarity score range from 0.0 to 1.0 from lowest to highest level of similarity\n",
        "ppi_df.head()"
      ]
    },
    {
      "cell_type": "code",
      "execution_count": 7,
      "metadata": {},
      "outputs": [
        {
          "data": {
            "text/plain": [
              "17739"
            ]
          },
          "execution_count": 7,
          "metadata": {},
          "output_type": "execute_result"
        }
      ],
      "source": [
        "## Get unique proteins from the PPI Network file\n",
        "ppi_single_proteins_m = ppi_df['ProteinA'].unique()\n",
        "ppi_single_proteins_n = ppi_df['ProteinB'].unique()\n",
        "ppi_single_proteins = set(ppi_single_proteins_m).union(set(ppi_single_proteins_n))\n",
        "len(ppi_single_proteins)"
      ]
    },
    {
      "cell_type": "code",
      "execution_count": 54,
      "metadata": {
        "colab": {
          "base_uri": "https://localhost:8080/",
          "height": 419
        },
        "id": "zfyiqqEOywC5",
        "outputId": "e71180d3-a495-4cca-9d9f-5c4275c464bc"
      },
      "outputs": [
        {
          "name": "stdout",
          "output_type": "stream",
          "text": [
            "1.0\n",
            "0.0\n",
            "0.466\n",
            "0.4292673173552603\n"
          ]
        },
        {
          "data": {
            "text/plain": [
              "{'whiskers': [<matplotlib.lines.Line2D at 0x28a1c3110>,\n",
              "  <matplotlib.lines.Line2D at 0x28a1c3a90>],\n",
              " 'caps': [<matplotlib.lines.Line2D at 0x28a1a0250>,\n",
              "  <matplotlib.lines.Line2D at 0x28a1a0ad0>],\n",
              " 'boxes': [<matplotlib.lines.Line2D at 0x28a1c2810>],\n",
              " 'medians': [<matplotlib.lines.Line2D at 0x28a1a1210>],\n",
              " 'fliers': [<matplotlib.lines.Line2D at 0x28a1a1a50>],\n",
              " 'means': []}"
            ]
          },
          "execution_count": 54,
          "metadata": {},
          "output_type": "execute_result"
        },
        {
          "data": {
            "image/png": "[encoded data removed]",
            "text/plain": [
              "<Figure size 500x500 with 1 Axes>"
            ]
          },
          "metadata": {},
          "output_type": "display_data"
        }
      ],
      "source": [
        "## Check the weight distribution on the nodes across the network\n",
        "biogrid_semsim = np.array(ppi_df['SemSim'])\n",
        "box_fig = plt.figure(figsize =(5, 5))\n",
        "\n",
        "print(np.max(biogrid_semsim))\n",
        "print(np.min(biogrid_semsim))\n",
        "print(np.median(biogrid_semsim))\n",
        "print(np.mean(biogrid_semsim))\n",
        "\n",
        "plt.boxplot(biogrid_semsim, vert=False)"
      ]
    },
    {
      "cell_type": "markdown",
      "metadata": {
        "id": "VB2wE7dA5Crt"
      },
      "source": [
        "## Testing NetworkX Package on PPI Data"
      ]
    },
    {
      "cell_type": "code",
      "execution_count": 67,
      "metadata": {
        "id": "jdGWFfFM0Xv4"
      },
      "outputs": [],
      "source": [
        "biogrid_protein_net = nwx.from_pandas_edgelist(\n",
        "    ppi_df,\n",
        "    source='ProteinA',\n",
        "    target='ProteinB',\n",
        "    edge_attr='SemSim'\n",
        ")"
      ]
    },
    {
      "cell_type": "code",
      "execution_count": 68,
      "metadata": {
        "id": "AlZvBqAc1YY4"
      },
      "outputs": [
        {
          "data": {
            "image/png": "[encoded data removed]",
            "text/plain": [
              "<Figure size 640x480 with 1 Axes>"
            ]
          },
          "metadata": {},
          "output_type": "display_data"
        }
      ],
      "source": [
        "## Node Degree Viualization\n",
        "## The following is a fucntion just to check the distribution of the node degrees. As it seems like there are highly central nodes\n",
        "def viz_degree(network_graph):\n",
        "  degree_nodes = {}\n",
        "  for p, d in network_graph.degree():\n",
        "    degree_nodes[p] = d\n",
        "\n",
        "  ## This gives that there are nodes with degree > 900\n",
        "  sorted_node_degrees = dict(sorted(degree_nodes.items(), key=lambda item: item[1],  reverse=True))\n",
        "\n",
        "  ## Let's visualize the distribution\n",
        "  viz_degree = {degree: 0 for degree in degree_nodes.values()}\n",
        "  for degree in degree_nodes.values():\n",
        "    viz_degree[degree]+=1\n",
        "  degree_count_pairs = sorted(viz_degree.items())\n",
        "  x, y = zip(*degree_count_pairs) # unpack a list of pairs into two tuples\n",
        "  plt.plot(x, y)\n",
        "  plt.xlabel('Node Degree')\n",
        "  plt.ylabel('Protein Count')\n",
        "  plt.show()\n",
        "\n",
        "viz_degree(biogrid_protein_net)"
      ]
    },
    {
      "cell_type": "code",
      "execution_count": 73,
      "metadata": {},
      "outputs": [
        {
          "name": "stdout",
          "output_type": "stream",
          "text": [
            "Maximum single node degree:  2879\n",
            "Minimum single node degree:  1\n",
            "Degree median:  15.0\n",
            "Average node degree:  38.21218783471447\n",
            "Node degree mode:  1\n"
          ]
        },
        {
          "data": {
            "image/png": "[encoded data removed]",
            "text/plain": [
              "<Figure size 640x480 with 1 Axes>"
            ]
          },
          "metadata": {},
          "output_type": "display_data"
        }
      ],
      "source": [
        "## Exploring the node edge distribution\n",
        "biogrid_net_degrees = []\n",
        "for prot, degree in biogrid_protein_net.degree():\n",
        "    biogrid_net_degrees.append(degree)\n",
        "\n",
        "print('Maximum single node degree: ', np.max(biogrid_net_degrees))\n",
        "print('Minimum single node degree: ', np.min(biogrid_net_degrees))\n",
        "print('Degree median: ', np.median(biogrid_net_degrees))\n",
        "print('Average node degree: ', np.mean(biogrid_net_degrees))\n",
        "print('Node degree mode: ', stats.mode(biogrid_net_degrees)[0])\n",
        "\n",
        "#plt.figure(figsize =(5, 5))\n",
        "biogrid_degree_boxplot = plt.boxplot(biogrid_net_degrees, vert=False)"
      ]
    },
    {
      "cell_type": "code",
      "execution_count": 77,
      "metadata": {},
      "outputs": [
        {
          "name": "stdout",
          "output_type": "stream",
          "text": [
            "[100, 100, 100, 100, 100, 100, 100, 100, 100, 100, 100, 100, 100, 100, 100, 100, 100, 100, 100, 100, 100, 100, 100, 100, 101, 101, 101, 101, 101, 101, 101, 101, 101, 101, 101, 101, 101, 101, 101, 101, 101, 101, 101, 101, 101, 101, 101, 101, 101, 101, 101, 101, 101, 101, 101, 102, 102, 102, 102, 102, 102, 102, 102, 102, 102, 102, 102, 102, 102, 102, 102, 102, 102, 102, 102, 102, 102, 102, 102, 102, 102, 103, 103, 103, 103, 103, 103, 103, 103, 103, 103, 103, 103, 103, 103, 103, 103, 103, 103, 103, 103, 104, 104, 104, 104, 104, 104, 104, 104, 104, 104, 104, 104, 104, 104, 104, 105, 105, 105, 105, 105, 105, 105, 105, 105, 105, 105, 105, 105, 105, 105, 105, 105, 105, 105, 105, 105, 105, 106, 106, 106, 106, 106, 106, 106, 106, 106, 106, 106, 106, 106, 106, 106, 106, 106, 106, 106, 106, 107, 107, 107, 107, 107, 107, 107, 107, 107, 107, 108, 108, 108, 108, 108, 108, 108, 108, 108, 108, 108, 108, 108, 108, 108, 108, 108, 108, 108, 108, 108, 109, 109, 109, 109, 109, 109, 109, 109, 109, 109, 109, 109, 109, 109, 109, 109, 110, 110, 110, 110, 110, 110, 110, 110, 110, 110, 110, 110, 110, 110, 110, 110, 110, 111, 111, 111, 111, 111, 111, 111, 111, 111, 111, 112, 112, 112, 112, 112, 112, 112, 112, 112, 112, 112, 112, 112, 112, 112, 112, 112, 112, 112, 112, 112, 113, 113, 113, 113, 113, 113, 113, 113, 113, 113, 113, 113, 113, 113, 113, 113, 113, 113, 113, 114, 114, 114, 114, 114, 114, 114, 114, 114, 114, 114, 114, 114, 115, 115, 115, 115, 115, 115, 115, 115, 115, 115, 115, 115, 115, 115, 116, 116, 116, 116, 116, 116, 116, 116, 116, 116, 116, 116, 116, 116, 117, 117, 117, 117, 117, 117, 117, 117, 117, 117, 117, 117, 117, 117, 117, 117, 117, 117, 117, 117, 117, 117, 117, 117, 117, 118, 118, 118, 118, 118, 118, 118, 118, 118, 118, 118, 118, 118, 118, 118, 118, 118, 118, 118, 119, 119, 119, 119, 119, 119, 119, 119, 119, 119, 119, 119, 119, 120, 120, 120, 120, 120, 120, 120, 120, 120, 120, 120, 120, 121, 121, 121, 121, 121, 121, 121, 121, 121, 121, 121, 121, 122, 122, 122, 122, 122, 122, 122, 122, 122, 122, 122, 122, 123, 123, 123, 123, 123, 123, 123, 123, 123, 123, 123, 123, 123, 123, 123, 123, 124, 124, 124, 124, 124, 124, 124, 124, 124, 124, 124, 124, 124, 125, 125, 125, 125, 125, 125, 125, 125, 125, 125, 125, 125, 125, 125, 125, 126, 126, 126, 126, 126, 126, 126, 126, 126, 126, 126, 126, 126, 126, 126, 126, 126, 127, 127, 127, 127, 127, 127, 127, 127, 127, 127, 127, 127, 127, 128, 128, 128, 128, 128, 128, 128, 128, 129, 129, 129, 129, 129, 129, 129, 129, 129, 129, 129, 129, 130, 130, 130, 130, 130, 130, 130, 130, 130, 130, 131, 131, 131, 131, 131, 131, 131, 131, 131, 131, 131, 131, 131, 132, 132, 132, 132, 132, 132, 132, 132, 132, 132, 133, 133, 133, 133, 133, 133, 133, 133, 133, 133, 133, 133, 133, 133, 133, 133, 134, 134, 134, 134, 134, 134, 134, 134, 134, 135, 135, 135, 135, 135, 135, 135, 135, 135, 135, 135, 135, 135, 135, 135, 135, 136, 136, 136, 136, 136, 136, 136, 136, 136, 136, 136, 136, 136, 136, 137, 137, 137, 137, 137, 137, 137, 137, 137, 137, 137, 137, 137, 137, 138, 138, 138, 138, 138, 138, 138, 138, 138, 138, 138, 139, 139, 139, 139, 139, 139, 140, 140, 140, 140, 140, 140, 140, 140, 140, 140, 141, 141, 141, 141, 141, 141, 141, 141, 141, 142, 142, 142, 142, 142, 142, 142, 142, 142, 143, 143, 143, 143, 143, 143, 143, 144, 144, 144, 144, 144, 144, 144, 144, 144, 144, 144, 145, 145, 145, 145, 145, 145, 145, 145, 145, 145, 145, 145, 145, 146, 146, 146, 146, 146, 146, 146, 146, 147, 147, 147, 147, 147, 147, 147, 147, 147, 148, 148, 148, 148, 148, 148, 148, 148, 149, 149, 149, 149, 149, 149, 149, 150, 150, 150, 150, 150, 150, 150, 150, 150, 151, 151, 151, 151, 151, 151, 151, 151, 151, 151, 151, 152, 152, 152, 152, 153, 153, 153, 153, 153, 153, 153, 153, 153, 154, 154, 154, 154, 154, 154, 154, 154, 154, 154, 154, 155, 155, 155, 155, 155, 156, 156, 156, 156, 156, 156, 156, 156, 156, 156, 156, 157, 157, 157, 157, 158, 158, 158, 158, 158, 159, 159, 159, 159, 159, 159, 159, 159, 160, 160, 160, 160, 160, 160, 160, 161, 161, 161, 161, 161, 161, 161, 162, 162, 162, 162, 163, 163, 163, 163, 163, 163, 163, 164, 164, 164, 164, 164, 164, 165, 165, 165, 165, 165, 165, 165, 166, 166, 166, 166, 167, 167, 167, 168, 168, 168, 168, 168, 169, 169, 169, 169, 169, 169, 169, 169, 169, 169, 169, 169, 169, 169, 170, 170, 170, 170, 170, 171, 171, 171, 171, 171, 171, 172, 172, 172, 172, 172, 173, 173, 173, 173, 174, 174, 174, 175, 175, 175, 175, 175, 175, 175, 175, 176, 176, 176, 176, 176, 176, 177, 177, 177, 177, 177, 177, 177, 177, 178, 178, 178, 178, 178, 178, 178, 179, 179, 179, 180, 180, 180, 180, 180, 181, 181, 181, 182, 182, 182, 182, 182, 182, 182, 183, 183, 183, 183, 184, 184, 184, 184, 184, 185, 185, 185, 185, 185, 185, 185, 186, 186, 186, 187, 187, 187, 187, 187, 187, 188, 189, 189, 189, 190, 191, 191, 191, 192, 192, 192, 192, 193, 193, 193, 193, 193, 193, 193, 194, 194, 194, 194, 194, 194, 194, 194, 194, 196, 196, 196, 196, 196, 197, 197, 198, 198, 198, 199, 199, 199, 199, 199, 199, 200, 200, 200, 201, 201, 201, 201, 201, 201, 201, 202, 202, 202, 202, 202, 202, 203, 203, 203, 203, 203, 203, 203, 204, 204, 204, 204, 205, 205, 206, 206, 206, 207, 207, 207, 207, 208, 208, 209, 209, 209, 209, 209, 209, 210, 210, 210, 210, 210, 210, 210, 211, 211, 211, 211, 211, 212, 213, 213, 213, 213, 214, 214, 214, 214, 214, 214, 214, 214, 215, 215, 215, 215, 215, 217, 217, 217, 217, 218, 218, 219, 219, 219, 219, 220, 220, 220, 221, 221, 221, 221, 221, 222, 222, 222, 222, 223, 223, 224, 224, 224, 224, 224, 224, 225, 225, 225, 226, 226, 226, 227, 227, 228, 228, 228, 228, 229, 229, 229, 229, 230, 230, 230, 231, 231, 233, 233, 234, 234, 234, 236, 236, 236, 236, 236, 236, 237, 237, 238, 238, 239, 239, 239, 239, 239, 239, 239, 239, 239, 240, 240, 240, 240, 240, 240, 240, 240, 241, 242, 242, 242, 243, 243, 243, 244, 244, 244, 245, 245, 246, 247, 247, 247, 247, 247, 247, 248, 249, 249, 250, 250, 250, 250, 250, 251, 252, 252, 252, 252, 253, 254, 254, 254, 255, 255, 255, 255, 256, 259, 259, 260, 261, 261, 262, 263, 265, 265, 265, 265, 266, 266, 266, 267, 267, 267, 268, 268, 268, 268, 269, 269, 269, 269, 269, 269, 270, 271, 271, 271, 271, 272, 272, 272, 273, 274, 275, 275, 275, 276, 276, 276, 276, 276, 277, 277, 277, 278, 278, 279, 279, 279, 279, 279, 279, 280, 282, 283, 284, 284, 284, 285, 285, 286, 287, 287, 287, 288, 288, 289, 290, 290, 292, 292, 292, 293, 293, 294, 294, 295, 295, 296, 297, 297, 297, 298, 300, 300, 301, 303, 304, 305, 305, 305, 305, 308, 309, 309, 310, 311, 312, 313, 313, 314, 314, 315, 315, 315, 316, 316, 316, 316, 317, 317, 317, 318, 318, 318, 318, 319, 320, 320, 321, 322, 323, 326, 326, 327, 327, 327, 328, 328, 329, 331, 331, 334, 336, 337, 338, 338, 339, 339, 339, 340, 342, 342, 342, 342, 342, 343, 345, 347, 347, 351, 352, 352, 356, 357, 358, 358, 361, 361, 361, 362, 366, 367, 367, 368, 369, 371, 371, 374, 376, 377, 378, 378, 379, 379, 381, 381, 385, 385, 388, 397, 397, 398, 398, 399, 399, 400, 402, 407, 413, 417, 418, 418, 420, 421, 431, 433, 439, 440, 441, 442, 447, 450, 450, 452, 453, 456, 456, 457, 457, 459, 463, 463, 465, 465, 465, 472, 478, 485, 490, 491, 494, 498, 509, 509, 514, 521, 529, 536, 536, 538, 540, 543, 544, 545, 549, 554, 555, 555, 558, 559, 579, 596, 603, 612, 613, 620, 622, 623, 623, 629, 634, 637, 642, 646, 649, 651, 657, 677, 682, 683, 698, 717, 730, 731, 737, 748, 750, 762, 765, 774, 793, 795, 826, 834, 835, 854, 854, 897, 963, 971, 983, 1029, 1063, 1066, 1107, 1126, 1228, 1238, 1252, 1255, 1268, 1299, 1358, 1686, 1772, 1799, 1959, 2108, 2273, 2395, 2879]\n"
          ]
        }
      ],
      "source": [
        "print(sorted(biogrid_degree_boxplot['fliers'][0].get_data()[0]))"
      ]
    },
    {
      "cell_type": "code",
      "execution_count": 78,
      "metadata": {},
      "outputs": [
        {
          "name": "stdout",
          "output_type": "stream",
          "text": [
            "1494\n"
          ]
        }
      ],
      "source": [
        "## We have 1494 outliers with high node-degree numbers\n",
        "print(len(biogrid_degree_boxplot['fliers'][0].get_data()[0]))"
      ]
    },
    {
      "cell_type": "code",
      "execution_count": 81,
      "metadata": {},
      "outputs": [],
      "source": [
        "biogrid_net_outliers = []\n",
        "for prot, degree in biogrid_protein_net.degree():\n",
        "    if degree >= 100:\n",
        "        biogrid_net_outliers.append(prot)"
      ]
    },
    {
      "cell_type": "markdown",
      "metadata": {
        "id": "B4LKJ6egQxgj"
      },
      "source": [
        "# Exploring Protein Complexes Data\n",
        "This data was collected from the CORUM database. These are from the 3.0 database and were downloaded directly from the Github repository for the study. We should refer to the latest CORUM 4.0 update for a more comprehensive list of complexes.\n"
      ]
    },
    {
      "cell_type": "code",
      "execution_count": 84,
      "metadata": {
        "colab": {
          "base_uri": "https://localhost:8080/"
        },
        "id": "GlgInjJ6RfYG",
        "outputId": "b3c7da8e-485b-44b6-f993-76dfa8149dc0"
      },
      "outputs": [],
      "source": [
        "complexes_list = []\n",
        "with open(\"../data/CORUM_Human_Complexes.txt\") as complexes:\n",
        "  for line in complexes:\n",
        "    line = line.strip()\n",
        "    temp_list = list(line.split(\"\\t\"))\n",
        "    complexes_list.append(temp_list)"
      ]
    },
    {
      "cell_type": "code",
      "execution_count": 12,
      "metadata": {
        "colab": {
          "base_uri": "https://localhost:8080/"
        },
        "id": "Cq7nKukTTA9M",
        "outputId": "5a147f42-777d-43b2-d30e-d94e7379a50f"
      },
      "outputs": [
        {
          "name": "stdout",
          "output_type": "stream",
          "text": [
            "2645\n"
          ]
        }
      ],
      "source": [
        "print(len(complexes_list))\n",
        "## We have 2645 protein complexes"
      ]
    },
    {
      "cell_type": "code",
      "execution_count": 16,
      "metadata": {
        "colab": {
          "base_uri": "https://localhost:8080/"
        },
        "id": "0zCAgcsITcQ0",
        "outputId": "0416c845-3193-4c7b-a3ee-4d4761a5b4ad"
      },
      "outputs": [
        {
          "name": "stdout",
          "output_type": "stream",
          "text": [
            "The largest protein complex is at idx 171 and has 143 proteins.\n"
          ]
        }
      ],
      "source": [
        "# Check the largest complex\n",
        "largest_idx = 0\n",
        "for idx, cmplx in enumerate(complexes_list):\n",
        "  if len(cmplx) > len(complexes_list[largest_idx]):\n",
        "    largest_idx = idx\n",
        "print(\"The largest protein complex is at idx %d and has %d proteins.\" % (largest_idx, len(complexes_list[largest_idx])))\n",
        "# The largest Protein Complex includes 143 individual proteins at index 171."
      ]
    },
    {
      "cell_type": "code",
      "execution_count": 17,
      "metadata": {},
      "outputs": [
        {
          "name": "stdout",
          "output_type": "stream",
          "text": [
            "3634\n"
          ]
        }
      ],
      "source": [
        "## We should first explore the individual proteins first\n",
        "## Get unique proteins from the Complexes file\n",
        "## Check common proteins\n",
        "complexes_dict = {}\n",
        "complexes_single_proteins = []\n",
        "for idx, cmplx in enumerate(complexes_list):\n",
        "  for protein in cmplx:\n",
        "    if protein not in complexes_single_proteins:\n",
        "      complexes_single_proteins.append(protein)\n",
        "\n",
        "  complexes_dict[idx] = cmplx\n",
        "\n",
        "print(len(complexes_single_proteins))"
      ]
    },
    {
      "cell_type": "code",
      "execution_count": 85,
      "metadata": {},
      "outputs": [
        {
          "data": {
            "text/plain": [
              "3544"
            ]
          },
          "execution_count": 85,
          "metadata": {},
          "output_type": "execute_result"
        }
      ],
      "source": [
        "## This checks which proteins from the complexes that we have exist in the PPI network data that we have\n",
        "## We can see that there are 3544 out of the 3634 unique complexes proteins that have PPI data\n",
        "common_proteins = ppi_single_proteins.intersection(complexes_single_proteins)\n",
        "len(common_proteins)"
      ]
    },
    {
      "cell_type": "code",
      "execution_count": 37,
      "metadata": {},
      "outputs": [
        {
          "name": "stdout",
          "output_type": "stream",
          "text": [
            "97.52339020363236\n"
          ]
        }
      ],
      "source": [
        "## We see that 97.52% of the proteins in the complexes have interaction data in the Biogrid dataframe\n",
        "print(3544/3634*100)"
      ]
    },
    {
      "cell_type": "code",
      "execution_count": 89,
      "metadata": {},
      "outputs": [
        {
          "data": {
            "text/plain": [
              "974"
            ]
          },
          "execution_count": 89,
          "metadata": {},
          "output_type": "execute_result"
        }
      ],
      "source": [
        "## Let's see how many of the outliers we found in the biogrid network (considered hub-proteins?) are in the complexes\n",
        "biogrid_cmplxs_outliers = set(biogrid_net_outliers).intersection(complexes_single_proteins)\n",
        "len(biogrid_cmplxs_outliers)"
      ]
    },
    {
      "cell_type": "code",
      "execution_count": 90,
      "metadata": {},
      "outputs": [
        {
          "name": "stdout",
          "output_type": "stream",
          "text": [
            "26.802421574023118\n"
          ]
        }
      ],
      "source": [
        "## ~27% of the proteins in the complexes are considered outliers in the biogrid data\n",
        "print(974/3634*100)"
      ]
    },
    {
      "cell_type": "code",
      "execution_count": 27,
      "metadata": {
        "id": "b67lnMNQUe1H",
        "outputId": "4d72b5aa-6c31-4025-8100-2d1d3d0d33af"
      },
      "outputs": [
        {
          "data": {
            "text/html": [
              "<div>\n",
              "<style scoped>\n",
              "    .dataframe tbody tr th:only-of-type {\n",
              "        vertical-align: middle;\n",
              "    }\n",
              "\n",
              "    .dataframe tbody tr th {\n",
              "        vertical-align: top;\n",
              "    }\n",
              "\n",
              "    .dataframe thead th {\n",
              "        text-align: right;\n",
              "    }\n",
              "</style>\n",
              "<table border=\"1\" class=\"dataframe\">\n",
              "  <thead>\n",
              "    <tr style=\"text-align: right;\">\n",
              "      <th></th>\n",
              "      <th>ProteinA</th>\n",
              "      <th>ProteinB</th>\n",
              "      <th>SemSim</th>\n",
              "    </tr>\n",
              "  </thead>\n",
              "  <tbody>\n",
              "    <tr>\n",
              "      <th>3</th>\n",
              "      <td>PML</td>\n",
              "      <td>GATA2</td>\n",
              "      <td>0.632667</td>\n",
              "    </tr>\n",
              "    <tr>\n",
              "      <th>4</th>\n",
              "      <td>STAT3</td>\n",
              "      <td>RPA2</td>\n",
              "      <td>0.576000</td>\n",
              "    </tr>\n",
              "    <tr>\n",
              "      <th>5</th>\n",
              "      <td>ARF1</td>\n",
              "      <td>GGA3</td>\n",
              "      <td>0.447000</td>\n",
              "    </tr>\n",
              "    <tr>\n",
              "      <th>9</th>\n",
              "      <td>APP</td>\n",
              "      <td>APPBP2</td>\n",
              "      <td>0.408333</td>\n",
              "    </tr>\n",
              "    <tr>\n",
              "      <th>11</th>\n",
              "      <td>TFAP2A</td>\n",
              "      <td>CITED2</td>\n",
              "      <td>0.677333</td>\n",
              "    </tr>\n",
              "    <tr>\n",
              "      <th>12</th>\n",
              "      <td>TFAP2A</td>\n",
              "      <td>EP300</td>\n",
              "      <td>0.635333</td>\n",
              "    </tr>\n",
              "    <tr>\n",
              "      <th>14</th>\n",
              "      <td>ARRB2</td>\n",
              "      <td>RALGDS</td>\n",
              "      <td>0.741333</td>\n",
              "    </tr>\n",
              "    <tr>\n",
              "      <th>15</th>\n",
              "      <td>GRB2</td>\n",
              "      <td>CSF1R</td>\n",
              "      <td>0.619667</td>\n",
              "    </tr>\n",
              "    <tr>\n",
              "      <th>17</th>\n",
              "      <td>LSM1</td>\n",
              "      <td>NARS</td>\n",
              "      <td>0.462333</td>\n",
              "    </tr>\n",
              "    <tr>\n",
              "      <th>18</th>\n",
              "      <td>SLC4A1</td>\n",
              "      <td>SLC4A1AP</td>\n",
              "      <td>0.507333</td>\n",
              "    </tr>\n",
              "  </tbody>\n",
              "</table>\n",
              "</div>"
            ],
            "text/plain": [
              "   ProteinA  ProteinB    SemSim\n",
              "3       PML     GATA2  0.632667\n",
              "4     STAT3      RPA2  0.576000\n",
              "5      ARF1      GGA3  0.447000\n",
              "9       APP    APPBP2  0.408333\n",
              "11   TFAP2A    CITED2  0.677333\n",
              "12   TFAP2A     EP300  0.635333\n",
              "14    ARRB2    RALGDS  0.741333\n",
              "15     GRB2     CSF1R  0.619667\n",
              "17     LSM1      NARS  0.462333\n",
              "18   SLC4A1  SLC4A1AP  0.507333"
            ]
          },
          "execution_count": 27,
          "metadata": {},
          "output_type": "execute_result"
        }
      ],
      "source": [
        "## Let's filter out some data for proteins found in the complexes and see how the distributions change.\n",
        "## Keeping in mind that we also have proteins in the network here interacting with complex-specific proteins.\n",
        "biogrid_cmplxs_ppi_df_source = ppi_df[(ppi_df['ProteinA'].isin(complexes_single_proteins))]\n",
        "biogrid_cmplxs_ppi_df_target = ppi_df[(ppi_df['ProteinB'].isin(complexes_single_proteins)) ]\n",
        "biogrid_cmplxs_ppi_df = pd.concat([biogrid_cmplxs_ppi_df_source, biogrid_cmplxs_ppi_df_target])\n",
        "biogrid_cmplxs_ppi_df.drop_duplicates()\n",
        "biogrid_cmplxs_ppi_df.head(10)\n"
      ]
    },
    {
      "cell_type": "code",
      "execution_count": 28,
      "metadata": {
        "id": "PUtJ-NF2WO-7"
      },
      "outputs": [],
      "source": [
        "biogrid_cmplxs_ppi_net = nwx.from_pandas_edgelist(\n",
        "    biogrid_cmplxs_ppi_df,\n",
        "    source='ProteinA',\n",
        "    target='ProteinB',\n",
        "    edge_attr='SemSim'\n",
        ")"
      ]
    },
    {
      "cell_type": "code",
      "execution_count": 29,
      "metadata": {},
      "outputs": [
        {
          "data": {
            "image/png": "[encoded data removed]",
            "text/plain": [
              "<Figure size 640x480 with 1 Axes>"
            ]
          },
          "metadata": {},
          "output_type": "display_data"
        }
      ],
      "source": [
        "viz_degree(biogrid_cmplxs_ppi_net)"
      ]
    },
    {
      "cell_type": "code",
      "execution_count": 55,
      "metadata": {},
      "outputs": [
        {
          "name": "stdout",
          "output_type": "stream",
          "text": [
            "1.0\n",
            "0.0\n",
            "0.508666666667\n",
            "0.4844463197802568\n"
          ]
        },
        {
          "data": {
            "text/plain": [
              "{'whiskers': [<matplotlib.lines.Line2D at 0x28a147350>,\n",
              "  <matplotlib.lines.Line2D at 0x28a147f50>],\n",
              " 'caps': [<matplotlib.lines.Line2D at 0x28a140b90>,\n",
              "  <matplotlib.lines.Line2D at 0x28a141650>],\n",
              " 'boxes': [<matplotlib.lines.Line2D at 0x28a146690>],\n",
              " 'medians': [<matplotlib.lines.Line2D at 0x28a142050>],\n",
              " 'fliers': [<matplotlib.lines.Line2D at 0x28a142a90>],\n",
              " 'means': []}"
            ]
          },
          "execution_count": 55,
          "metadata": {},
          "output_type": "execute_result"
        },
        {
          "data": {
            "image/png": "[encoded data removed]",
            "text/plain": [
              "<Figure size 500x500 with 1 Axes>"
            ]
          },
          "metadata": {},
          "output_type": "display_data"
        }
      ],
      "source": [
        "## Checking the weight distributions on the complexes\n",
        "biogrid_cmplxs_semsim = np.array(biogrid_cmplxs_ppi_df['SemSim'])\n",
        "\n",
        "print(np.max(biogrid_cmplxs_semsim))\n",
        "print(np.min(biogrid_cmplxs_semsim))\n",
        "print(np.median(biogrid_cmplxs_semsim))\n",
        "print(np.mean(biogrid_cmplxs_semsim))\n",
        "\n",
        "box_fig = plt.figure(figsize =(5, 5))\n",
        "plt.boxplot(biogrid_cmplxs_semsim, vert=False)"
      ]
    },
    {
      "cell_type": "code",
      "execution_count": 38,
      "metadata": {},
      "outputs": [],
      "source": [
        "biogrid_cmplxs_degree = []\n",
        "for prot, degree in biogrid_cmplxs_ppi_net.degree():\n",
        "    biogrid_cmplxs_degree.append(degree)"
      ]
    },
    {
      "cell_type": "code",
      "execution_count": 39,
      "metadata": {},
      "outputs": [
        {
          "name": "stdout",
          "output_type": "stream",
          "text": [
            "2879\n",
            "The 25th and 75th percentile for the node degrees are:  [ 2.5 26. ]\n",
            "1\n",
            "8.0\n",
            "30.067403382379876\n",
            "ModeResult(mode=1, count=2578)\n",
            "0.1676152383895184\n"
          ]
        }
      ],
      "source": [
        "print(np.max(biogrid_cmplxs_degree))\n",
        "print('The 25th and 75th percentile for the node degrees are: ', np.percentile(biogrid_cmplxs_degree, [25, 75]))\n",
        "print(np.min(biogrid_cmplxs_degree))\n",
        "print(np.median(biogrid_cmplxs_degree))\n",
        "print(np.mean(biogrid_cmplxs_degree))\n",
        "print(stats.mode(biogrid_cmplxs_degree))\n",
        "print(nwx.average_clustering(biogrid_cmplxs_ppi_net))"
      ]
    },
    {
      "cell_type": "code",
      "execution_count": 44,
      "metadata": {},
      "outputs": [
        {
          "data": {
            "image/png": "[encoded data removed]",
            "text/plain": [
              "<Figure size 640x480 with 1 Axes>"
            ]
          },
          "metadata": {},
          "output_type": "display_data"
        }
      ],
      "source": [
        "biogrid_cmplxs_degree_boxplot = plt.boxplot(biogrid_cmplxs_degree, vert=False)"
      ]
    },
    {
      "cell_type": "code",
      "execution_count": 62,
      "metadata": {},
      "outputs": [
        {
          "name": "stdout",
          "output_type": "stream",
          "text": [
            "[62, 62, 62, 62, 62, 62, 62, 62, 62, 62, 62, 62, 62, 62, 62, 62, 62, 62, 62, 62, 62, 62, 62, 62, 62, 62, 62, 62, 62, 62, 62, 62, 62, 62, 62, 62, 63, 63, 63, 63, 63, 63, 63, 63, 63, 63, 63, 63, 63, 63, 63, 63, 63, 63, 63, 63, 63, 63, 63, 63, 63, 63, 63, 63, 63, 63, 63, 63, 63, 63, 64, 64, 64, 64, 64, 64, 64, 64, 64, 64, 64, 64, 64, 64, 64, 64, 64, 64, 64, 64, 64, 64, 64, 64, 64, 64, 64, 64, 64, 64, 64, 64, 64, 64, 64, 64, 64, 64, 64, 64, 65, 65, 65, 65, 65, 65, 65, 65, 65, 65, 65, 65, 65, 65, 65, 65, 65, 65, 65, 65, 65, 65, 65, 65, 65, 65, 65, 65, 65, 65, 65, 65, 65, 65, 65, 65, 65, 65, 65, 65, 65, 66, 66, 66, 66, 66, 66, 66, 66, 66, 66, 66, 66, 66, 66, 66, 66, 66, 66, 66, 66, 66, 66, 66, 66, 66, 66, 67, 67, 67, 67, 67, 67, 67, 67, 67, 67, 67, 67, 67, 67, 67, 67, 67, 67, 67, 67, 67, 67, 67, 67, 67, 67, 67, 67, 67, 67, 67, 67, 67, 67, 67, 67, 68, 68, 68, 68, 68, 68, 68, 68, 68, 68, 68, 68, 68, 68, 68, 68, 68, 68, 68, 68, 68, 68, 68, 68, 68, 68, 69, 69, 69, 69, 69, 69, 69, 69, 69, 69, 69, 69, 69, 69, 69, 69, 69, 69, 69, 69, 69, 69, 69, 69, 69, 69, 69, 69, 69, 70, 70, 70, 70, 70, 70, 70, 70, 70, 70, 70, 70, 70, 70, 70, 70, 70, 70, 70, 70, 70, 70, 70, 70, 70, 71, 71, 71, 71, 71, 71, 71, 71, 71, 71, 71, 71, 71, 71, 71, 71, 71, 71, 71, 71, 71, 72, 72, 72, 72, 72, 72, 72, 72, 72, 72, 72, 72, 72, 72, 72, 72, 72, 73, 73, 73, 73, 73, 73, 73, 73, 73, 73, 73, 73, 73, 73, 73, 73, 73, 73, 73, 73, 73, 73, 73, 73, 73, 74, 74, 74, 74, 74, 74, 74, 74, 74, 74, 74, 74, 74, 74, 74, 74, 74, 74, 74, 74, 74, 74, 74, 74, 74, 74, 74, 74, 74, 75, 75, 75, 75, 75, 75, 75, 75, 75, 75, 75, 75, 75, 75, 75, 75, 75, 75, 75, 75, 75, 75, 75, 75, 75, 75, 75, 76, 76, 76, 76, 76, 76, 76, 76, 76, 76, 76, 76, 76, 76, 76, 76, 76, 76, 76, 76, 76, 76, 76, 76, 76, 76, 76, 76, 77, 77, 77, 77, 77, 77, 77, 77, 77, 77, 77, 77, 77, 77, 77, 77, 77, 77, 77, 77, 78, 78, 78, 78, 78, 78, 78, 78, 78, 78, 78, 78, 78, 78, 78, 78, 78, 78, 78, 78, 78, 78, 78, 78, 79, 79, 79, 79, 79, 79, 79, 79, 79, 79, 79, 79, 79, 79, 79, 80, 80, 80, 80, 80, 80, 80, 80, 80, 80, 80, 80, 80, 80, 80, 81, 81, 81, 81, 81, 81, 81, 81, 81, 81, 81, 81, 81, 81, 81, 81, 81, 81, 81, 81, 81, 81, 81, 81, 82, 82, 82, 82, 82, 82, 82, 82, 82, 82, 82, 82, 82, 82, 82, 82, 82, 82, 82, 82, 82, 82, 82, 82, 82, 82, 82, 83, 83, 83, 83, 83, 83, 83, 83, 83, 83, 83, 83, 83, 83, 83, 83, 83, 83, 83, 84, 84, 84, 84, 84, 84, 84, 84, 84, 84, 84, 84, 84, 85, 85, 85, 85, 85, 85, 85, 85, 85, 85, 85, 85, 85, 85, 85, 85, 85, 85, 85, 85, 85, 85, 85, 85, 85, 85, 86, 86, 86, 86, 86, 86, 86, 86, 86, 86, 86, 86, 86, 86, 86, 86, 86, 86, 86, 86, 86, 86, 86, 86, 87, 87, 87, 87, 87, 87, 87, 87, 87, 87, 87, 87, 87, 87, 87, 88, 88, 88, 88, 88, 88, 88, 88, 88, 88, 88, 88, 88, 88, 88, 88, 88, 88, 89, 89, 89, 89, 89, 89, 89, 89, 89, 89, 89, 89, 89, 90, 90, 90, 90, 90, 90, 90, 90, 90, 90, 90, 90, 90, 90, 90, 90, 90, 90, 90, 90, 91, 91, 91, 91, 91, 91, 91, 91, 91, 91, 92, 92, 92, 92, 92, 92, 92, 92, 92, 92, 92, 92, 93, 93, 93, 93, 93, 93, 93, 93, 93, 93, 93, 93, 93, 93, 93, 93, 93, 93, 93, 93, 94, 94, 94, 94, 94, 94, 94, 94, 94, 94, 94, 94, 94, 94, 94, 94, 94, 94, 94, 95, 95, 95, 95, 95, 95, 95, 95, 95, 95, 95, 95, 95, 95, 95, 95, 95, 95, 95, 95, 95, 96, 96, 96, 96, 96, 96, 96, 96, 96, 96, 97, 97, 97, 97, 97, 97, 97, 97, 97, 97, 97, 97, 97, 97, 97, 97, 97, 98, 98, 98, 98, 98, 98, 98, 98, 98, 98, 98, 99, 99, 99, 99, 99, 99, 99, 99, 99, 99, 99, 99, 99, 100, 100, 100, 100, 100, 100, 100, 100, 100, 101, 101, 101, 101, 101, 101, 101, 101, 101, 101, 101, 101, 101, 102, 102, 102, 102, 102, 102, 102, 102, 102, 102, 102, 102, 102, 102, 102, 103, 103, 103, 103, 103, 103, 103, 103, 103, 103, 103, 104, 104, 104, 104, 104, 104, 104, 104, 104, 104, 104, 104, 104, 105, 105, 105, 105, 105, 105, 105, 105, 105, 105, 105, 106, 106, 106, 106, 106, 106, 106, 106, 106, 106, 106, 106, 106, 106, 106, 106, 106, 106, 106, 107, 107, 107, 107, 107, 107, 107, 108, 108, 108, 108, 108, 108, 108, 108, 108, 108, 108, 109, 109, 109, 109, 109, 109, 109, 109, 109, 109, 110, 110, 110, 110, 110, 110, 110, 110, 110, 111, 111, 111, 111, 112, 112, 112, 112, 112, 112, 112, 112, 112, 112, 112, 112, 112, 113, 113, 113, 113, 113, 113, 113, 113, 113, 113, 113, 114, 114, 114, 114, 114, 114, 114, 114, 114, 115, 115, 115, 115, 115, 115, 115, 115, 115, 115, 115, 116, 116, 116, 116, 116, 116, 116, 116, 116, 117, 117, 117, 117, 117, 117, 117, 117, 117, 117, 117, 117, 118, 118, 118, 118, 118, 118, 118, 118, 118, 118, 119, 119, 119, 119, 119, 119, 119, 119, 119, 119, 119, 120, 120, 120, 120, 120, 120, 121, 121, 121, 121, 121, 121, 121, 122, 122, 122, 122, 122, 122, 122, 122, 122, 122, 123, 123, 123, 123, 123, 123, 123, 123, 124, 124, 124, 124, 124, 124, 124, 124, 124, 125, 125, 125, 125, 125, 125, 125, 125, 125, 125, 125, 125, 126, 126, 126, 126, 126, 126, 126, 126, 126, 126, 126, 127, 127, 127, 127, 127, 127, 127, 127, 127, 127, 127, 127, 127, 128, 128, 128, 128, 128, 128, 129, 129, 129, 129, 129, 129, 129, 129, 130, 130, 130, 130, 130, 130, 131, 131, 131, 131, 131, 131, 131, 131, 131, 131, 132, 132, 132, 132, 132, 132, 133, 133, 133, 133, 133, 133, 133, 133, 133, 134, 134, 134, 134, 134, 135, 135, 135, 135, 135, 135, 135, 135, 136, 136, 136, 136, 136, 136, 136, 136, 136, 137, 137, 137, 137, 137, 137, 137, 137, 137, 137, 137, 137, 138, 138, 138, 138, 138, 138, 139, 139, 139, 139, 140, 140, 140, 140, 140, 140, 140, 141, 141, 141, 141, 141, 142, 142, 142, 142, 142, 142, 143, 143, 143, 144, 144, 144, 144, 144, 144, 144, 144, 144, 145, 145, 145, 145, 145, 145, 145, 145, 146, 146, 146, 146, 146, 147, 147, 147, 147, 147, 147, 147, 148, 148, 148, 148, 148, 148, 148, 149, 149, 149, 149, 149, 149, 149, 150, 150, 150, 150, 150, 150, 151, 151, 151, 151, 151, 151, 152, 152, 152, 153, 153, 153, 153, 153, 154, 154, 154, 154, 154, 154, 154, 154, 154, 154, 155, 155, 155, 156, 156, 156, 156, 156, 156, 156, 156, 156, 157, 157, 157, 157, 157, 158, 158, 158, 158, 159, 159, 159, 159, 160, 160, 160, 160, 160, 160, 161, 161, 161, 161, 162, 162, 162, 162, 163, 163, 163, 163, 163, 163, 163, 164, 164, 164, 164, 165, 165, 165, 165, 166, 166, 166, 167, 167, 168, 168, 168, 169, 169, 169, 169, 169, 169, 169, 169, 169, 170, 170, 170, 171, 171, 171, 171, 171, 172, 172, 172, 172, 173, 173, 174, 174, 175, 175, 175, 175, 175, 175, 176, 176, 176, 176, 176, 176, 177, 177, 177, 177, 177, 177, 178, 178, 178, 179, 179, 180, 180, 180, 181, 181, 181, 182, 182, 182, 182, 182, 182, 183, 183, 183, 184, 184, 184, 184, 185, 185, 185, 185, 185, 186, 186, 186, 186, 186, 187, 187, 187, 187, 189, 189, 191, 192, 192, 192, 193, 193, 193, 193, 193, 193, 194, 194, 194, 194, 194, 194, 194, 196, 196, 196, 196, 196, 197, 197, 198, 198, 199, 199, 199, 199, 199, 200, 200, 201, 201, 201, 201, 201, 202, 202, 202, 202, 202, 203, 203, 203, 203, 203, 204, 204, 204, 204, 205, 206, 206, 206, 206, 207, 207, 207, 207, 208, 208, 209, 209, 209, 209, 209, 210, 210, 210, 211, 211, 211, 211, 211, 212, 213, 213, 213, 214, 214, 214, 214, 214, 214, 214, 214, 214, 215, 215, 215, 215, 217, 217, 217, 219, 219, 219, 220, 220, 221, 221, 221, 221, 222, 222, 222, 223, 223, 223, 224, 224, 224, 224, 225, 225, 225, 226, 227, 227, 228, 228, 228, 228, 229, 229, 229, 230, 230, 231, 233, 234, 234, 236, 236, 236, 236, 236, 237, 237, 238, 238, 239, 239, 239, 239, 239, 239, 239, 240, 240, 240, 240, 240, 240, 241, 242, 242, 242, 243, 244, 244, 245, 245, 246, 247, 247, 247, 247, 247, 248, 249, 250, 250, 250, 250, 250, 251, 252, 252, 253, 254, 254, 254, 255, 256, 256, 259, 259, 260, 261, 262, 263, 265, 265, 265, 265, 266, 267, 267, 268, 268, 268, 269, 269, 269, 269, 269, 270, 271, 271, 271, 272, 272, 272, 273, 275, 275, 276, 276, 277, 277, 278, 279, 279, 279, 279, 279, 279, 280, 282, 283, 284, 284, 284, 285, 286, 287, 287, 287, 289, 290, 292, 292, 292, 293, 294, 295, 296, 297, 297, 297, 298, 300, 300, 301, 303, 304, 305, 305, 305, 305, 308, 309, 309, 310, 311, 312, 313, 313, 314, 314, 315, 315, 315, 316, 316, 316, 316, 317, 317, 318, 318, 319, 320, 320, 323, 326, 327, 327, 327, 328, 329, 331, 331, 332, 334, 337, 338, 338, 339, 339, 341, 342, 342, 342, 342, 343, 344, 345, 347, 347, 348, 351, 352, 352, 357, 358, 361, 361, 367, 367, 368, 368, 369, 371, 371, 376, 377, 377, 378, 378, 379, 379, 381, 381, 385, 385, 388, 397, 397, 398, 398, 399, 399, 402, 407, 413, 413, 417, 418, 418, 421, 431, 433, 439, 440, 442, 447, 450, 450, 452, 453, 456, 457, 457, 458, 459, 465, 465, 465, 471, 478, 485, 486, 490, 491, 494, 498, 509, 509, 514, 529, 536, 536, 538, 540, 543, 544, 545, 554, 555, 555, 558, 559, 596, 613, 620, 622, 623, 623, 629, 634, 637, 642, 646, 649, 657, 682, 683, 698, 717, 730, 731, 737, 748, 762, 765, 774, 789, 793, 795, 826, 835, 854, 854, 897, 963, 971, 983, 1029, 1066, 1107, 1126, 1228, 1238, 1255, 1268, 1299, 1686, 1772, 1799, 1959, 2108, 2273, 2395, 2879]\n",
            "1916\n"
          ]
        }
      ],
      "source": [
        "## We have 1916 with relatively higher degrees that we consider outliers\n",
        "print(sorted(biogrid_cmplxs_degree_boxplot['fliers'][0].get_data()[0]))\n",
        "print(len(sorted(biogrid_cmplxs_degree_boxplot['fliers'][0].get_data()[0])))"
      ]
    },
    {
      "cell_type": "code",
      "execution_count": null,
      "metadata": {},
      "outputs": [],
      "source": [
        "## Let's collect those outliers and see how they match up to the \n",
        "biogrid_cmplxs_outliers = []\n",
        "for prot, degree in biogrid_cmplxs_ppi_net.degree():\n",
        "    if degree >= 62:\n",
        "        biogrid_cmplxs_outliers.append(prot)\n",
        "        print('{0} has degree {1}'.format(prot, degree))"
      ]
    },
    {
      "cell_type": "code",
      "execution_count": 61,
      "metadata": {},
      "outputs": [
        {
          "data": {
            "text/plain": [
              "1916"
            ]
          },
          "execution_count": 61,
          "metadata": {},
          "output_type": "execute_result"
        }
      ],
      "source": [
        "len(biogrid_cmplxs_outliers)"
      ]
    },
    {
      "cell_type": "code",
      "execution_count": 63,
      "metadata": {},
      "outputs": [],
      "source": [
        "for prot in biogrid_cmplxs_outliers:\n",
        "    biogrid_cmplxs_ppi_net.remove_node(prot)"
      ]
    },
    {
      "cell_type": "code",
      "execution_count": 64,
      "metadata": {},
      "outputs": [
        {
          "data": {
            "image/png": "[encoded data removed]",
            "text/plain": [
              "<Figure size 640x480 with 1 Axes>"
            ]
          },
          "metadata": {},
          "output_type": "display_data"
        }
      ],
      "source": [
        "viz_degree(biogrid_cmplxs_ppi_net)"
      ]
    },
    {
      "cell_type": "markdown",
      "metadata": {
        "id": "KA8qgDq4sJpl"
      },
      "source": [
        "# Adjacency Matrix Transformation\n",
        "We can exploit the vietoris rips packages used for feature extraction for the NN models, but we need to wrangle the graph into and adjacency matrix. This would enable us to feed it into the giotto-tda package. We should also generate these matrices to feed into the GCN models.\n"
      ]
    },
    {
      "cell_type": "markdown",
      "metadata": {
        "id": "Ogt0plRYQe2f"
      },
      "source": [
        "## Adjacency Matrix Transformation"
      ]
    },
    {
      "cell_type": "markdown",
      "metadata": {
        "id": "jGvwNmaFqtQC"
      },
      "source": [
        "### Approach 1\n",
        "This approach takes way too long to compute the adjacency matrix, had to make it a bit more dynamic and split the search time over different iterations"
      ]
    },
    {
      "cell_type": "code",
      "execution_count": null,
      "metadata": {
        "id": "SRMXUd-BAPlt"
      },
      "outputs": [],
      "source": [
        "common_proteins_indices = {}\n",
        "for idx, protein in enumerate(common_proteins):\n",
        "  common_proteins_indices[protein] = idx\n"
      ]
    },
    {
      "cell_type": "code",
      "execution_count": null,
      "metadata": {
        "id": "S7rHC7dbCzJo"
      },
      "outputs": [],
      "source": [
        "common_proteins_neighbors = {}\n",
        "\n",
        "for protein in common_proteins:\n",
        "  neighbors = list(ppi_df[ppi_df['ProteinA'] == protein]['ProteinB'])\n",
        "  common_proteins_neighbors[protein] = list(set(neighbors) & set(common_proteins))\n",
        "\n",
        "  #for neighbor in neighbors:\n",
        "   # common_proteins_neighbors[protein]  = list.append((common_proteins_indices[neighbor], ppi_df[(ppi_df['ProteinA'] == protein) & (ppi_df['ProteinB'] == neighbor)]['SemSim']))"
      ]
    },
    {
      "cell_type": "code",
      "execution_count": null,
      "metadata": {
        "id": "AXtUnsuF9FoG"
      },
      "outputs": [],
      "source": [
        "m = 3544\n",
        "adjacency_mat = [[0] * m] * m"
      ]
    },
    {
      "cell_type": "code",
      "execution_count": null,
      "metadata": {
        "id": "G2QJwdthLACq"
      },
      "outputs": [],
      "source": [
        "for protein in common_proteins_neighbors:\n",
        "  neighbors = common_proteins_neighbors[protein]\n",
        "  for neighbor in neighbors:\n",
        "    adjacency_mat[common_proteins_indices[protein]][common_proteins_indices[neighbor]] = 1"
      ]
    },
    {
      "cell_type": "code",
      "execution_count": null,
      "metadata": {
        "id": "_2cyQIDNCYG3"
      },
      "outputs": [],
      "source": [
        "for protein in common_proteins:\n",
        "  neighbors = list(ppi_df[ppi_df['ProteinA'] == protein]['ProteinB'])\n",
        "  #neighbors = common_proteins_neighbors[protein]\n",
        "  for neighbor in neighbors:\n",
        "    if neighbor in common_proteins:\n",
        "      adjacency_mat[common_proteins_indices[protein]][common_proteins_indices[neighbor]] = ppi_df[(ppi_df['ProteinA'] == protein) & (ppi_df['ProteinB'] == neighbor)]['SemSim']"
      ]
    },
    {
      "cell_type": "markdown",
      "metadata": {
        "id": "KGVv9k7Qqoa5"
      },
      "source": [
        "### Approach 2\n",
        "The previous approach is very computationally costly, as such we will try to optimize it to a more basic one."
      ]
    },
    {
      "cell_type": "code",
      "execution_count": null,
      "metadata": {
        "id": "x2WoDARQqoLi",
        "outputId": "d22be93d-cb91-481c-e9b2-4a029d4bdd77"
      },
      "outputs": [
        {
          "name": "stdout",
          "output_type": "stream",
          "text": [
            "We have 17739 unique proteins in the PPI dataset\n"
          ]
        }
      ],
      "source": [
        "## Extract PPI Unique proteins from the set\n",
        "ppi_unique_proteins = np.unique(ppi_df[['ProteinA', 'ProteinB']])\n",
        "n_proteins = len(ppi_unique_proteins)\n",
        "print(f'We have %d unique proteins in the PPI dataset' % n_proteins )"
      ]
    },
    {
      "cell_type": "code",
      "execution_count": null,
      "metadata": {
        "id": "C0ecySnxrvQh"
      },
      "outputs": [],
      "source": [
        "## Create a hashmap of protein to idx so that we could identify them in the matrix\n",
        "protein_to_idx = {protein: idx for idx, protein in enumerate(ppi_unique_proteins)}"
      ]
    },
    {
      "cell_type": "code",
      "execution_count": null,
      "metadata": {
        "id": "lKC_sapMsD2o"
      },
      "outputs": [],
      "source": [
        "## Initialize Adjacency Matrix\n",
        "## IMPORTANT NOTE: This was initialized with np.inf for inexistent edges esepecially for the Giotto-TDA package\n",
        "adj_mat = np.matrix(np.ones((n_proteins, n_proteins)) * np.inf)"
      ]
    },
    {
      "cell_type": "code",
      "execution_count": null,
      "metadata": {
        "id": "7E2dEmL3sPsx"
      },
      "outputs": [],
      "source": [
        "for idx, row in ppi_df.iterrows():\n",
        "  protein_A = protein_to_idx[row['ProteinA']]\n",
        "  protein_B = protein_to_idx[row['ProteinB']]\n",
        "  sem_sim_score = row['SemSim']\n",
        "  adj_mat[protein_A, protein_B] = sem_sim_score\n",
        "  adj_mat[protein_B, protein_A] = sem_sim_score"
      ]
    },
    {
      "cell_type": "code",
      "execution_count": null,
      "metadata": {
        "id": "74azoF9UAKlg"
      },
      "outputs": [],
      "source": [
        "## File is too large to save into a tsv, so i will make the matrix sparse instead\n",
        "np.savetxt('ppi_adj_mat.tsv',adj_mat,delimiter='  ')"
      ]
    },
    {
      "cell_type": "code",
      "execution_count": null,
      "metadata": {
        "id": "KL0mUPNZtNgH"
      },
      "outputs": [],
      "source": [
        "## In the interest of saving memory, converting the matrix to sparse row format with scipy might be a good idea\n",
        "from scipy.sparse import csr_matrix\n",
        "from scipy.sparse import save_npz\n",
        "adj_mat_sparse = csr_matrix(adj_mat)"
      ]
    },
    {
      "cell_type": "code",
      "execution_count": null,
      "metadata": {
        "id": "kw5nikF0BlqC"
      },
      "outputs": [],
      "source": [
        "## save_npz exports the matrix to an npz file, to load it back, use the load_npz method.\n",
        "save_npz('sparse_matrix.npz', adj_mat_sparse)"
      ]
    }
  ],
  "metadata": {
    "colab": {
      "collapsed_sections": [
        "B4LKJ6egQxgj",
        "0zSl4njwEiYf",
        "KA8qgDq4sJpl",
        "Hbtys6RmTjVh",
        "Ogt0plRYQe2f",
        "jGvwNmaFqtQC",
        "KGVv9k7Qqoa5",
        "GcPD6afUOXHf"
      ],
      "include_colab_link": true,
      "provenance": []
    },
    "kernelspec": {
      "display_name": "Python 3",
      "name": "python3"
    },
    "language_info": {
      "codemirror_mode": {
        "name": "ipython",
        "version": 3
      },
      "file_extension": ".py",
      "mimetype": "text/x-python",
      "name": "python",
      "nbconvert_exporter": "python",
      "pygments_lexer": "ipython3",
      "version": "3.11.6"
    }
  },
  "nbformat": 4,
  "nbformat_minor": 0
}
